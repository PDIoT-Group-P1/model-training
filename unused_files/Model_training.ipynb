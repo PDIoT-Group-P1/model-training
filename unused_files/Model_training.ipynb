{
 "cells": [
  {
   "cell_type": "code",
   "execution_count": 1,
   "metadata": {
    "ExecuteTime": {
     "end_time": "2023-11-10T18:22:16.567057Z",
     "start_time": "2023-11-10T18:22:12.713731Z"
    }
   },
   "outputs": [],
   "source": [
    "import os\n",
    "import pandas as pd\n",
    "import numpy as np\n",
    "from scipy import stats\n",
    "import tensorflow as tf\n",
    "from sklearn.model_selection import train_test_split\n",
    "from sklearn.preprocessing import OneHotEncoder\n",
    "from datetime import datetime"
   ]
  },
  {
   "cell_type": "code",
   "execution_count": 2,
   "metadata": {
    "ExecuteTime": {
     "end_time": "2023-11-10T18:22:21.393746Z",
     "start_time": "2023-11-10T18:22:21.387414Z"
    }
   },
   "outputs": [],
   "source": [
    "UUNs = ['s2106809', 's2100273', 's2104454']\n",
    "cols = ['accel_x', 'accel_y', 'accel_z', 'gyro_x', 'gyro_y', 'gyro_z', 'activity']\n",
    "data_file_name = f\"all_data{datetime.now()}.csv\"\n",
    "if len(UUNs) < 3:\n",
    "    name_prefix = '_'.join(UUNs)\n",
    "    data_file_name = f\"{name_prefix}_data{datetime.now()}.csv)\"\n",
    "\n",
    "all_data = os.path.join(os.getcwd(), data_file_name)\n",
    "pd.DataFrame(columns=cols).to_csv(all_data, mode='w', header=True, index=False)"
   ]
  },
  {
   "cell_type": "code",
   "execution_count": 3,
   "metadata": {
    "ExecuteTime": {
     "end_time": "2023-11-10T18:22:35.564625Z",
     "start_time": "2023-11-10T18:22:24.685516Z"
    }
   },
   "outputs": [],
   "source": [
    "def is_req_file(filename):\n",
    "    return (\"Respeck\" in filename and \"clean\" in filename and\n",
    "            filename.split(\"_\")[1] in UUNs)\n",
    "\n",
    "data_dir = os.path.join(os.getcwd(), 'Respeck')\n",
    "\n",
    "activities = []\n",
    "for subdir in os.listdir(data_dir):\n",
    "    if os.path.isdir(os.path.join(data_dir, subdir)):\n",
    "        for file in os.listdir(os.path.join(data_dir, subdir)):\n",
    "            df = pd.read_csv(os.path.join(data_dir, subdir, file))\n",
    "            file_info = file.split('.')[0].split('_')\n",
    "            act, subact = file_info[2:4]\n",
    "            df['activity'] = pd.Series(f\"{act} {subact}\", index=df.index)\n",
    "            df = df[cols]\n",
    "            df.to_csv(all_data, mode='a', header=False, index=False)\n",
    "            activities.append(f\"{act} {subact}\")"
   ]
  },
  {
   "cell_type": "code",
   "execution_count": 16,
   "metadata": {
    "ExecuteTime": {
     "end_time": "2023-11-10T18:24:18.552916Z",
     "start_time": "2023-11-10T18:24:18.552257Z"
    }
   },
   "outputs": [],
   "source": [
    "random_seed = 42\n",
    "n_time_steps = 50\n",
    "n_features = 6\n",
    "step = 10\n",
    "n_epochs = 10\n",
    "batch_size = 64\n",
    "learning_rate = 0.0015\n",
    "l2_loss = 0.0015\n",
    "\n",
    "segments = []\n",
    "labels = []"
   ]
  },
  {
   "cell_type": "code",
   "execution_count": 5,
   "metadata": {
    "ExecuteTime": {
     "end_time": "2023-11-10T18:23:22.293402Z",
     "start_time": "2023-11-10T18:23:22.272461Z"
    }
   },
   "outputs": [
    {
     "data": {
      "text/plain": "OneHotEncoder(handle_unknown='ignore')",
      "text/html": "<style>#sk-container-id-1 {color: black;}#sk-container-id-1 pre{padding: 0;}#sk-container-id-1 div.sk-toggleable {background-color: white;}#sk-container-id-1 label.sk-toggleable__label {cursor: pointer;display: block;width: 100%;margin-bottom: 0;padding: 0.3em;box-sizing: border-box;text-align: center;}#sk-container-id-1 label.sk-toggleable__label-arrow:before {content: \"▸\";float: left;margin-right: 0.25em;color: #696969;}#sk-container-id-1 label.sk-toggleable__label-arrow:hover:before {color: black;}#sk-container-id-1 div.sk-estimator:hover label.sk-toggleable__label-arrow:before {color: black;}#sk-container-id-1 div.sk-toggleable__content {max-height: 0;max-width: 0;overflow: hidden;text-align: left;background-color: #f0f8ff;}#sk-container-id-1 div.sk-toggleable__content pre {margin: 0.2em;color: black;border-radius: 0.25em;background-color: #f0f8ff;}#sk-container-id-1 input.sk-toggleable__control:checked~div.sk-toggleable__content {max-height: 200px;max-width: 100%;overflow: auto;}#sk-container-id-1 input.sk-toggleable__control:checked~label.sk-toggleable__label-arrow:before {content: \"▾\";}#sk-container-id-1 div.sk-estimator input.sk-toggleable__control:checked~label.sk-toggleable__label {background-color: #d4ebff;}#sk-container-id-1 div.sk-label input.sk-toggleable__control:checked~label.sk-toggleable__label {background-color: #d4ebff;}#sk-container-id-1 input.sk-hidden--visually {border: 0;clip: rect(1px 1px 1px 1px);clip: rect(1px, 1px, 1px, 1px);height: 1px;margin: -1px;overflow: hidden;padding: 0;position: absolute;width: 1px;}#sk-container-id-1 div.sk-estimator {font-family: monospace;background-color: #f0f8ff;border: 1px dotted black;border-radius: 0.25em;box-sizing: border-box;margin-bottom: 0.5em;}#sk-container-id-1 div.sk-estimator:hover {background-color: #d4ebff;}#sk-container-id-1 div.sk-parallel-item::after {content: \"\";width: 100%;border-bottom: 1px solid gray;flex-grow: 1;}#sk-container-id-1 div.sk-label:hover label.sk-toggleable__label {background-color: #d4ebff;}#sk-container-id-1 div.sk-serial::before {content: \"\";position: absolute;border-left: 1px solid gray;box-sizing: border-box;top: 0;bottom: 0;left: 50%;z-index: 0;}#sk-container-id-1 div.sk-serial {display: flex;flex-direction: column;align-items: center;background-color: white;padding-right: 0.2em;padding-left: 0.2em;position: relative;}#sk-container-id-1 div.sk-item {position: relative;z-index: 1;}#sk-container-id-1 div.sk-parallel {display: flex;align-items: stretch;justify-content: center;background-color: white;position: relative;}#sk-container-id-1 div.sk-item::before, #sk-container-id-1 div.sk-parallel-item::before {content: \"\";position: absolute;border-left: 1px solid gray;box-sizing: border-box;top: 0;bottom: 0;left: 50%;z-index: -1;}#sk-container-id-1 div.sk-parallel-item {display: flex;flex-direction: column;z-index: 1;position: relative;background-color: white;}#sk-container-id-1 div.sk-parallel-item:first-child::after {align-self: flex-end;width: 50%;}#sk-container-id-1 div.sk-parallel-item:last-child::after {align-self: flex-start;width: 50%;}#sk-container-id-1 div.sk-parallel-item:only-child::after {width: 0;}#sk-container-id-1 div.sk-dashed-wrapped {border: 1px dashed gray;margin: 0 0.4em 0.5em 0.4em;box-sizing: border-box;padding-bottom: 0.4em;background-color: white;}#sk-container-id-1 div.sk-label label {font-family: monospace;font-weight: bold;display: inline-block;line-height: 1.2em;}#sk-container-id-1 div.sk-label-container {text-align: center;}#sk-container-id-1 div.sk-container {/* jupyter's `normalize.less` sets `[hidden] { display: none; }` but bootstrap.min.css set `[hidden] { display: none !important; }` so we also need the `!important` here to be able to override the default hidden behavior on the sphinx rendered scikit-learn.org. See: https://github.com/scikit-learn/scikit-learn/issues/21755 */display: inline-block !important;position: relative;}#sk-container-id-1 div.sk-text-repr-fallback {display: none;}</style><div id=\"sk-container-id-1\" class=\"sk-top-container\"><div class=\"sk-text-repr-fallback\"><pre>OneHotEncoder(handle_unknown=&#x27;ignore&#x27;)</pre><b>In a Jupyter environment, please rerun this cell to show the HTML representation or trust the notebook. <br />On GitHub, the HTML representation is unable to render, please try loading this page with nbviewer.org.</b></div><div class=\"sk-container\" hidden><div class=\"sk-item\"><div class=\"sk-estimator sk-toggleable\"><input class=\"sk-toggleable__control sk-hidden--visually\" id=\"sk-estimator-id-1\" type=\"checkbox\" checked><label for=\"sk-estimator-id-1\" class=\"sk-toggleable__label sk-toggleable__label-arrow\">OneHotEncoder</label><div class=\"sk-toggleable__content\"><pre>OneHotEncoder(handle_unknown=&#x27;ignore&#x27;)</pre></div></div></div></div></div>"
     },
     "execution_count": 5,
     "metadata": {},
     "output_type": "execute_result"
    }
   ],
   "source": [
    "activities = np.array(activities).reshape(-1, 1)\n",
    "enc = OneHotEncoder(handle_unknown='ignore')\n",
    "enc.fit(activities)"
   ]
  },
  {
   "cell_type": "code",
   "execution_count": 6,
   "metadata": {
    "ExecuteTime": {
     "end_time": "2023-11-10T18:23:38.494521Z",
     "start_time": "2023-11-10T18:23:24.447907Z"
    }
   },
   "outputs": [
    {
     "name": "stderr",
     "output_type": "stream",
     "text": [
      "/var/folders/1w/ty9_z0y12r72xymhb930rg9h0000gn/T/ipykernel_10820/3990836015.py:11: FutureWarning: Unlike other reduction functions (e.g. `skew`, `kurtosis`), the default behavior of `mode` typically preserves the axis it acts along. In SciPy 1.11.0, this behavior will change: the default value of `keepdims` will become False, the `axis` over which the statistic is taken will be eliminated, and the value None will no longer be accepted. Set `keepdims` to True or False to avoid this warning.\n",
      "  label = stats.mode(df['activity'][i: i + n_time_steps])[0][0]\n",
      "/var/folders/1w/ty9_z0y12r72xymhb930rg9h0000gn/T/ipykernel_10820/3990836015.py:11: DeprecationWarning: Support for non-numeric arrays has been deprecated as of SciPy 1.9.0 and will be removed in 1.11.0. `pandas.DataFrame.mode` can be used instead, see https://pandas.pydata.org/docs/reference/api/pandas.DataFrame.mode.html.\n",
      "  label = stats.mode(df['activity'][i: i + n_time_steps])[0][0]\n"
     ]
    }
   ],
   "source": [
    "all_data = os.path.join(os.getcwd(), data_file_name)\n",
    "df = pd.read_csv(all_data)\n",
    "\n",
    "for i in range(0, len(df) - n_time_steps, step):\n",
    "    xs = df['accel_x'].values[i: i + n_time_steps]\n",
    "    ys = df['accel_y'].values[i: i + n_time_steps]\n",
    "    zs = df['accel_z'].values[i: i + n_time_steps]\n",
    "    gx = df['gyro_x'].values[i: i + n_time_steps]\n",
    "    gy = df['gyro_y'].values[i: i + n_time_steps]\n",
    "    gz = df['gyro_z'].values[i: i + n_time_steps]\n",
    "    label = stats.mode(df['activity'][i: i + n_time_steps])[0][0]\n",
    "    segments.append([xs, ys, zs, gx, gy, gz])\n",
    "    labels.append(label)"
   ]
  },
  {
   "cell_type": "code",
   "execution_count": 7,
   "metadata": {
    "ExecuteTime": {
     "end_time": "2023-11-10T18:23:41.167857Z",
     "start_time": "2023-11-10T18:23:40.609098Z"
    }
   },
   "outputs": [
    {
     "data": {
      "text/plain": "((234780, 6, 50), (234780,))"
     },
     "execution_count": 7,
     "metadata": {},
     "output_type": "execute_result"
    }
   ],
   "source": [
    "np.array(segments).shape, np.array(labels).shape"
   ]
  },
  {
   "cell_type": "code",
   "execution_count": 8,
   "metadata": {
    "ExecuteTime": {
     "end_time": "2023-11-10T18:23:43.736149Z",
     "start_time": "2023-11-10T18:23:43.427471Z"
    }
   },
   "outputs": [],
   "source": [
    "reshaped_segments = np.asarray(segments, dtype= np.float32).reshape(-1, n_time_steps, n_features)\n",
    "labels = np.asarray(pd.get_dummies(labels), dtype = np.float32)"
   ]
  },
  {
   "cell_type": "code",
   "execution_count": 9,
   "metadata": {
    "ExecuteTime": {
     "end_time": "2023-11-10T18:23:47.181178Z",
     "start_time": "2023-11-10T18:23:47.173664Z"
    }
   },
   "outputs": [
    {
     "data": {
      "text/plain": "((234780, 50, 6), (234780, 44))"
     },
     "execution_count": 9,
     "metadata": {},
     "output_type": "execute_result"
    }
   ],
   "source": [
    "reshaped_segments.shape, labels.shape"
   ]
  },
  {
   "cell_type": "code",
   "execution_count": 10,
   "metadata": {
    "ExecuteTime": {
     "end_time": "2023-11-10T18:23:49.569983Z",
     "start_time": "2023-11-10T18:23:49.303289Z"
    }
   },
   "outputs": [],
   "source": [
    "x_train, x_test, y_train, y_test = train_test_split(reshaped_segments, labels, test_size=0.2, random_state=random_seed)"
   ]
  },
  {
   "cell_type": "code",
   "execution_count": 11,
   "metadata": {
    "ExecuteTime": {
     "end_time": "2023-11-10T18:23:51.082791Z",
     "start_time": "2023-11-10T18:23:51.075665Z"
    }
   },
   "outputs": [
    {
     "data": {
      "text/plain": "((187824, 50, 6), (187824, 44), (46956, 50, 6), (46956, 44))"
     },
     "execution_count": 11,
     "metadata": {},
     "output_type": "execute_result"
    }
   ],
   "source": [
    "x_train.shape, y_train.shape, x_test.shape, y_test.shape"
   ]
  },
  {
   "cell_type": "code",
   "execution_count": 12,
   "metadata": {
    "ExecuteTime": {
     "end_time": "2023-11-10T18:23:53.200914Z",
     "start_time": "2023-11-10T18:23:53.197225Z"
    }
   },
   "outputs": [],
   "source": [
    "from keras import Sequential\n",
    "from keras.layers import LSTM, Dense, Dropout"
   ]
  },
  {
   "cell_type": "code",
   "execution_count": 17,
   "metadata": {
    "ExecuteTime": {
     "end_time": "2023-11-10T18:24:25.299737Z",
     "start_time": "2023-11-10T18:24:25.196045Z"
    }
   },
   "outputs": [],
   "source": [
    "model = Sequential()\n",
    "model.add(LSTM(100, input_shape=(n_time_steps, n_features)))\n",
    "model.add(Dropout(0.5))\n",
    "model.add(Dense(100, activation='relu'))\n",
    "model.add(Dense(44, activation='softmax'))\n",
    "model.compile(loss='categorical_crossentropy', optimizer='adam', metrics=['accuracy'])"
   ]
  },
  {
   "cell_type": "code",
   "execution_count": 18,
   "metadata": {
    "ExecuteTime": {
     "end_time": "2023-11-10T18:24:26.366590Z",
     "start_time": "2023-11-10T18:24:26.351235Z"
    }
   },
   "outputs": [
    {
     "name": "stdout",
     "output_type": "stream",
     "text": [
      "Model: \"sequential_1\"\n",
      "_________________________________________________________________\n",
      " Layer (type)                Output Shape              Param #   \n",
      "=================================================================\n",
      " lstm_1 (LSTM)               (None, 100)               42800     \n",
      "                                                                 \n",
      " dropout_1 (Dropout)         (None, 100)               0         \n",
      "                                                                 \n",
      " dense_2 (Dense)             (None, 100)               10100     \n",
      "                                                                 \n",
      " dense_3 (Dense)             (None, 44)                4444      \n",
      "                                                                 \n",
      "=================================================================\n",
      "Total params: 57344 (224.00 KB)\n",
      "Trainable params: 57344 (224.00 KB)\n",
      "Non-trainable params: 0 (0.00 Byte)\n",
      "_________________________________________________________________\n"
     ]
    }
   ],
   "source": [
    "model.summary()"
   ]
  },
  {
   "cell_type": "code",
   "execution_count": 19,
   "metadata": {
    "ExecuteTime": {
     "end_time": "2023-11-10T18:40:20.260038Z",
     "start_time": "2023-11-10T18:24:27.270198Z"
    }
   },
   "outputs": [
    {
     "name": "stdout",
     "output_type": "stream",
     "text": [
      "Epoch 1/10\n",
      "2935/2935 [==============================] - 79s 27ms/step - loss: 1.8886 - accuracy: 0.3249 - val_loss: 1.4815 - val_accuracy: 0.4241\n",
      "Epoch 2/10\n",
      "2935/2935 [==============================] - 100s 34ms/step - loss: 1.4901 - accuracy: 0.4339 - val_loss: 1.3696 - val_accuracy: 0.4655\n",
      "Epoch 3/10\n",
      "2935/2935 [==============================] - 95s 32ms/step - loss: 1.3829 - accuracy: 0.4740 - val_loss: 1.2732 - val_accuracy: 0.5101\n",
      "Epoch 4/10\n",
      "2935/2935 [==============================] - 96s 33ms/step - loss: 1.3154 - accuracy: 0.5000 - val_loss: 1.2382 - val_accuracy: 0.5175\n",
      "Epoch 5/10\n",
      "2935/2935 [==============================] - 95s 32ms/step - loss: 1.2593 - accuracy: 0.5206 - val_loss: 1.1653 - val_accuracy: 0.5492\n",
      "Epoch 6/10\n",
      "2935/2935 [==============================] - 100s 34ms/step - loss: 1.2106 - accuracy: 0.5359 - val_loss: 1.1358 - val_accuracy: 0.5553\n",
      "Epoch 7/10\n",
      "2935/2935 [==============================] - 99s 34ms/step - loss: 1.1636 - accuracy: 0.5528 - val_loss: 1.0962 - val_accuracy: 0.5731\n",
      "Epoch 8/10\n",
      "2935/2935 [==============================] - 97s 33ms/step - loss: 1.1286 - accuracy: 0.5662 - val_loss: 1.0697 - val_accuracy: 0.5852\n",
      "Epoch 9/10\n",
      "2935/2935 [==============================] - 90s 31ms/step - loss: 1.0951 - accuracy: 0.5800 - val_loss: 1.0349 - val_accuracy: 0.5988\n",
      "Epoch 10/10\n",
      "2935/2935 [==============================] - 102s 35ms/step - loss: 1.0657 - accuracy: 0.5909 - val_loss: 1.0157 - val_accuracy: 0.6040\n"
     ]
    },
    {
     "data": {
      "text/plain": "<keras.src.callbacks.History at 0x2874ff9d0>"
     },
     "execution_count": 19,
     "metadata": {},
     "output_type": "execute_result"
    }
   ],
   "source": [
    "model.fit(x_train, y_train, epochs=n_epochs, batch_size=batch_size, verbose=1, validation_data=(x_test, y_test))"
   ]
  },
  {
   "cell_type": "code",
   "execution_count": null,
   "metadata": {},
   "outputs": [],
   "source": [
    "model.evaluate(x_test, y_test)"
   ]
  },
  {
   "cell_type": "code",
   "execution_count": null,
   "metadata": {},
   "outputs": [],
   "source": [
    "# save model\n",
    "model.save('model1011.h5')"
   ]
  },
  {
   "cell_type": "code",
   "execution_count": null,
   "metadata": {},
   "outputs": [],
   "source": [
    "converter = tf.lite.TFLiteConverter.from_keras_model(model)\n",
    "converter.target_spec.supported_ops = [\n",
    "  tf.lite.OpsSet.TFLITE_BUILTINS, # enable TensorFlow Lite ops.\n",
    "  tf.lite.OpsSet.SELECT_TF_OPS # enable TensorFlow ops.\n",
    "]\n",
    "tflite_model = converter.convert()\n",
    "\n",
    "# save tflite model\n",
    "with open('model2510.tflite', 'wb') as f:\n",
    "    f.write(tflite_model)"
   ]
  },
  {
   "cell_type": "code",
   "execution_count": null,
   "metadata": {},
   "outputs": [],
   "source": [
    "# Load the TFLite model and allocate tensors.\n",
    "interpreter = tf.lite.Interpreter(model_path=\"model.tflite\")\n",
    "interpreter.allocate_tensors()\n",
    "\n",
    "# Get input and output tensors\n",
    "input_details = interpreter.get_input_details()\n",
    "output_details = interpreter.get_output_details()\n",
    "\n",
    "# Test the model on one instance\n",
    "interpreter.set_tensor(input_details[0]['index'], x_test[0:1])\n",
    "interpreter.invoke()\n",
    "output_data = interpreter.get_tensor(output_details[0]['index'])\n",
    "print(output_data)"
   ]
  },
  {
   "cell_type": "code",
   "execution_count": null,
   "metadata": {},
   "outputs": [],
   "source": [
    "correct_predictions = 0\n",
    "total_predictions = 0\n",
    "\n",
    "for i in range(len(x_test)):\n",
    "    interpreter.set_tensor(input_details[0]['index'], x_test[i:i+1])\n",
    "    interpreter.invoke()\n",
    "    output_data = interpreter.get_tensor(output_details[0]['index'])\n",
    "    total_predictions += 1\n",
    "    if np.argmax(output_data) == np.argmax(y_test[i]):\n",
    "        correct_predictions += 1\n",
    "\n",
    "accuracy = correct_predictions / total_predictions\n",
    "print('Test accuracy:', accuracy)"
   ]
  },
  {
   "cell_type": "code",
   "execution_count": null,
   "metadata": {},
   "outputs": [],
   "source": [
    "test_case = x_test[0:1]\n",
    "interpreter.set_tensor(input_details[0]['index'], test_case)\n",
    "interpreter.invoke()\n",
    "output_data = interpreter.get_tensor(output_details[0]['index'])\n",
    "argmax = output_data.argmax()\n",
    "print('Predicted activity:', enc.categories_[0][argmax])\n",
    "print('Expected activity:' , enc.categories_[0][np.argmax(y_test[0])])"
   ]
  },
  {
   "cell_type": "code",
   "execution_count": null,
   "metadata": {},
   "outputs": [],
   "source": []
  }
 ],
 "metadata": {
  "kernelspec": {
   "display_name": "pdiot",
   "language": "python",
   "name": "python3"
  },
  "language_info": {
   "codemirror_mode": {
    "name": "ipython",
    "version": 3
   },
   "file_extension": ".py",
   "mimetype": "text/x-python",
   "name": "python",
   "nbconvert_exporter": "python",
   "pygments_lexer": "ipython3",
   "version": "3.8.18"
  }
 },
 "nbformat": 4,
 "nbformat_minor": 2
}
