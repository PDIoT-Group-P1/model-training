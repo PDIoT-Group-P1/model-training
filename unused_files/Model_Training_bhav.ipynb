{
 "cells": [
  {
   "cell_type": "markdown",
   "metadata": {
    "id": "5DEe7lIYfI64"
   },
   "source": [
    "# Training of ML Model for the PDIOT CW3"
   ]
  },
  {
   "cell_type": "markdown",
   "metadata": {
    "id": "NSGJIf2BRDdV"
   },
   "source": [
    "## Import Dependencies"
   ]
  },
  {
   "cell_type": "code",
   "execution_count": 1,
   "metadata": {
    "id": "LP8IlZMhfFAG",
    "ExecuteTime": {
     "end_time": "2023-11-10T12:58:00.937066Z",
     "start_time": "2023-11-10T12:58:00.003565Z"
    }
   },
   "outputs": [],
   "source": [
    "import pandas as pd\n",
    "import numpy as np\n",
    "import os\n",
    "from sklearn.preprocessing import OneHotEncoder, LabelEncoder\n",
    "from sklearn.model_selection import train_test_split\n",
    "from datetime import datetime"
   ]
  },
  {
   "cell_type": "code",
   "execution_count": 2,
   "metadata": {
    "ExecuteTime": {
     "end_time": "2023-11-10T12:58:01.574806Z",
     "start_time": "2023-11-10T12:58:01.564310Z"
    }
   },
   "outputs": [],
   "source": [
    "UUNs = ['s2106809', 's2100273', 's2104454']\n",
    "cols = ['accel_x', 'accel_y', 'accel_z', 'gyro_x', 'gyro_y', 'gyro_z', 'activity']\n",
    "data_file_name = f\"all_data{datetime.now()}.csv\"\n",
    "if len(UUNs) < 3:\n",
    "    name_prefix = '_'.join(UUNs)\n",
    "    data_file_name = f\"{name_prefix}_data{datetime.now()}.csv)\"\n",
    "\n",
    "all_data = os.path.join(os.getcwd(), data_file_name)\n",
    "pd.DataFrame(columns=cols).to_csv(all_data, mode='w', header=True, index=False)"
   ]
  },
  {
   "cell_type": "code",
   "execution_count": 3,
   "metadata": {
    "ExecuteTime": {
     "end_time": "2023-11-10T12:58:02.958763Z",
     "start_time": "2023-11-10T12:58:02.929442Z"
    }
   },
   "outputs": [],
   "source": [
    "def is_req_file(filename):\n",
    "    return (\"Respeck\" in filename and \"clean\" in filename and\n",
    "            filename.split(\"_\")[1] in UUNs)\n",
    "\n",
    "data_dir = os.path.join(os.getcwd(), 'Respeck')\n",
    "all_files = []\n",
    "for subdir in os.listdir(data_dir):\n",
    "    if os.path.isdir(os.path.join(data_dir, subdir)):\n",
    "        for file in os.listdir(os.path.join(data_dir, subdir)):\n",
    "            file = os.path.join(data_dir, subdir, file)\n",
    "            all_files.append(file)"
   ]
  },
  {
   "cell_type": "code",
   "execution_count": 4,
   "metadata": {
    "ExecuteTime": {
     "end_time": "2023-11-10T12:58:19.458117Z",
     "start_time": "2023-11-10T12:58:03.962011Z"
    }
   },
   "outputs": [],
   "source": [
    "for file in all_files:\n",
    "    df = pd.read_csv(os.path.join(data_dir, file))\n",
    "    act, subact = file.split('_')[2:4]\n",
    "    df['activity'] = pd.Series(f\"{act} {subact}\", index=df.index)\n",
    "    df = df[cols]\n",
    "    df.to_csv(all_data, mode='a', header=False, index=False)"
   ]
  },
  {
   "cell_type": "code",
   "execution_count": 5,
   "metadata": {
    "id": "_8gLMWS0RDdZ",
    "ExecuteTime": {
     "end_time": "2023-11-10T12:58:35.438817Z",
     "start_time": "2023-11-10T12:58:35.435112Z"
    }
   },
   "outputs": [],
   "source": [
    "random_seed = 42\n",
    "n_time_steps = 50\n",
    "n_features = 6\n",
    "step = 10\n",
    "n_epochs = 50\n",
    "batch_size = 64\n",
    "learning_rate = 0.0015\n",
    "l2_loss = 0.0015\n",
    "\n",
    "segments = []\n",
    "labels = []"
   ]
  },
  {
   "cell_type": "code",
   "execution_count": 6,
   "metadata": {
    "id": "YspI0VqyRDdZ",
    "ExecuteTime": {
     "end_time": "2023-11-10T12:59:08.881889Z",
     "start_time": "2023-11-10T12:58:40.097803Z"
    }
   },
   "outputs": [],
   "source": [
    "all_data = os.path.join(os.getcwd(), data_file_name)\n",
    "df = pd.read_csv(all_data)\n",
    "\n",
    "for i in range(0, len(df) - n_time_steps, step):\n",
    "    window_data = df[i: i + n_time_steps]\n",
    "    segments.append(window_data.drop(['activity'], axis=1).values)\n",
    "    labels.append(window_data['activity'].values[0])"
   ]
  },
  {
   "cell_type": "code",
   "execution_count": 7,
   "metadata": {
    "ExecuteTime": {
     "end_time": "2023-11-10T12:59:10.772552Z",
     "start_time": "2023-11-10T12:59:10.442570Z"
    }
   },
   "outputs": [],
   "source": [
    "segments = np.asarray(segments, dtype=np.float32).reshape(-1, n_time_steps, n_features)\n",
    "labels = np.asarray(labels)"
   ]
  },
  {
   "cell_type": "code",
   "execution_count": 8,
   "metadata": {
    "ExecuteTime": {
     "end_time": "2023-11-10T12:59:11.607480Z",
     "start_time": "2023-11-10T12:59:11.548111Z"
    }
   },
   "outputs": [],
   "source": [
    "le = LabelEncoder()\n",
    "labels = le.fit_transform(labels)"
   ]
  },
  {
   "cell_type": "code",
   "execution_count": 9,
   "metadata": {
    "ExecuteTime": {
     "end_time": "2023-11-10T12:59:12.727659Z",
     "start_time": "2023-11-10T12:59:12.718979Z"
    }
   },
   "outputs": [
    {
     "data": {
      "text/plain": "((234780, 50, 6), (234780,))"
     },
     "execution_count": 9,
     "metadata": {},
     "output_type": "execute_result"
    }
   ],
   "source": [
    "segments.shape, labels.shape"
   ]
  },
  {
   "cell_type": "code",
   "execution_count": 10,
   "metadata": {
    "ExecuteTime": {
     "end_time": "2023-11-10T12:59:14.173562Z",
     "start_time": "2023-11-10T12:59:14.072828Z"
    }
   },
   "outputs": [],
   "source": [
    "x_train, x_test, y_train, y_test = train_test_split(segments, labels, test_size=0.2, random_state=random_seed)"
   ]
  },
  {
   "cell_type": "code",
   "execution_count": 11,
   "metadata": {
    "ExecuteTime": {
     "end_time": "2023-11-10T12:59:15.149035Z",
     "start_time": "2023-11-10T12:59:15.140272Z"
    }
   },
   "outputs": [
    {
     "data": {
      "text/plain": "((187824, 50, 6), (187824,), (46956, 50, 6), (46956,))"
     },
     "execution_count": 11,
     "metadata": {},
     "output_type": "execute_result"
    }
   ],
   "source": [
    "x_train.shape, y_train.shape, x_test.shape, y_test.shape"
   ]
  },
  {
   "cell_type": "code",
   "execution_count": 12,
   "metadata": {
    "id": "G5KyMLgyRDdZ",
    "ExecuteTime": {
     "end_time": "2023-11-10T12:59:19.442433Z",
     "start_time": "2023-11-10T12:59:16.275922Z"
    }
   },
   "outputs": [],
   "source": [
    "from keras.models import Sequential\n",
    "from keras.layers import Dense, Dropout, Flatten, Conv2D\n",
    "from keras.optimizers.legacy import Adam"
   ]
  },
  {
   "cell_type": "code",
   "execution_count": 13,
   "metadata": {
    "ExecuteTime": {
     "end_time": "2023-11-10T12:59:20.247731Z",
     "start_time": "2023-11-10T12:59:20.232607Z"
    }
   },
   "outputs": [
    {
     "data": {
      "text/plain": "((187824, 50, 6, 1), (46956, 50, 6, 1))"
     },
     "execution_count": 13,
     "metadata": {},
     "output_type": "execute_result"
    }
   ],
   "source": [
    "conv_x_train = x_train.reshape(-1, n_time_steps, n_features, 1)\n",
    "conv_x_test = x_test.reshape(-1, n_time_steps, n_features, 1)\n",
    "\n",
    "conv_x_train.shape, conv_x_test.shape"
   ]
  },
  {
   "cell_type": "code",
   "execution_count": 14,
   "metadata": {
    "id": "s4V4m9VhNVNw",
    "ExecuteTime": {
     "end_time": "2023-11-10T12:59:21.049452Z",
     "start_time": "2023-11-10T12:59:20.977955Z"
    }
   },
   "outputs": [],
   "source": [
    "model = Sequential()\n",
    "model.add(Conv2D(16, (2, 2), activation = 'relu', input_shape = conv_x_train[0].shape))\n",
    "model.add(Dropout(0.1))\n",
    "\n",
    "model.add(Conv2D(32, (2, 2), activation='relu'))\n",
    "model.add(Dropout(0.2))\n",
    "\n",
    "model.add(Flatten())\n",
    "\n",
    "model.add(Dense(64, activation = 'relu'))\n",
    "model.add(Dropout(0.5))\n",
    "\n",
    "model.add(Dense(44, activation='softmax'))"
   ]
  },
  {
   "cell_type": "code",
   "execution_count": 16,
   "metadata": {
    "colab": {
     "base_uri": "https://localhost:8080/"
    },
    "id": "kNUTGB0ENzy0",
    "outputId": "c94c3698-cbf0-45d9-9244-416aac623f8b",
    "ExecuteTime": {
     "end_time": "2023-11-10T13:05:54.971778Z",
     "start_time": "2023-11-10T12:59:43.341529Z"
    }
   },
   "outputs": [
    {
     "name": "stdout",
     "output_type": "stream",
     "text": [
      "Epoch 1/10\n",
      "5870/5870 [==============================] - 34s 6ms/step - loss: 0.5215 - accuracy: 0.7906 - val_loss: 0.4245 - val_accuracy: 0.8216\n",
      "Epoch 2/10\n",
      "5870/5870 [==============================] - 40s 7ms/step - loss: 0.4650 - accuracy: 0.8085 - val_loss: 0.3954 - val_accuracy: 0.8311\n",
      "Epoch 3/10\n",
      "5870/5870 [==============================] - 32s 6ms/step - loss: 0.4390 - accuracy: 0.8177 - val_loss: 0.3852 - val_accuracy: 0.8345\n",
      "Epoch 4/10\n",
      "5870/5870 [==============================] - 35s 6ms/step - loss: 0.4216 - accuracy: 0.8241 - val_loss: 0.3792 - val_accuracy: 0.8402\n",
      "Epoch 5/10\n",
      "5870/5870 [==============================] - 36s 6ms/step - loss: 0.4081 - accuracy: 0.8276 - val_loss: 0.3807 - val_accuracy: 0.8371\n",
      "Epoch 6/10\n",
      "5870/5870 [==============================] - 36s 6ms/step - loss: 0.4024 - accuracy: 0.8294 - val_loss: 0.3761 - val_accuracy: 0.8403\n",
      "Epoch 7/10\n",
      "5870/5870 [==============================] - 37s 6ms/step - loss: 0.3931 - accuracy: 0.8332 - val_loss: 0.3644 - val_accuracy: 0.8382\n",
      "Epoch 8/10\n",
      "5870/5870 [==============================] - 37s 6ms/step - loss: 0.3889 - accuracy: 0.8355 - val_loss: 0.3691 - val_accuracy: 0.8387\n",
      "Epoch 9/10\n",
      "5870/5870 [==============================] - 44s 8ms/step - loss: 0.3836 - accuracy: 0.8367 - val_loss: 0.3502 - val_accuracy: 0.8522\n",
      "Epoch 10/10\n",
      "5870/5870 [==============================] - 38s 6ms/step - loss: 0.3788 - accuracy: 0.8379 - val_loss: 0.3641 - val_accuracy: 0.8470\n"
     ]
    }
   ],
   "source": [
    "model.compile(optimizer=Adam(learning_rate = 0.001), loss = 'sparse_categorical_crossentropy', metrics = ['accuracy'])\n",
    "history = model.fit(conv_x_train, y_train, epochs =10, validation_data= (conv_x_test, y_test), verbose=1)"
   ]
  },
  {
   "cell_type": "code",
   "execution_count": 17,
   "metadata": {
    "colab": {
     "base_uri": "https://localhost:8080/"
    },
    "id": "0ydy2dN7N_9n",
    "outputId": "2c8f3f9d-21a4-4248-d2a4-0494e97f07e5",
    "ExecuteTime": {
     "end_time": "2023-11-10T13:06:00.989771Z",
     "start_time": "2023-11-10T13:05:59.216355Z"
    }
   },
   "outputs": [
    {
     "name": "stdout",
     "output_type": "stream",
     "text": [
      "1468/1468 [==============================] - 2s 1ms/step - loss: 0.3641 - accuracy: 0.8470\n",
      "Test loss: 0.36413830518722534, Test accuracy: 0.846963107585907\n"
     ]
    }
   ],
   "source": [
    "loss, accuracy = model.evaluate(conv_x_test, y_test)\n",
    "print(f'Test loss: {loss}, Test accuracy: {accuracy}')"
   ]
  },
  {
   "cell_type": "code",
   "execution_count": null,
   "metadata": {},
   "outputs": [],
   "source": []
  }
 ],
 "metadata": {
  "colab": {
   "provenance": []
  },
  "kernelspec": {
   "display_name": "Python 3 (ipykernel)",
   "language": "python",
   "name": "python3"
  },
  "language_info": {
   "codemirror_mode": {
    "name": "ipython",
    "version": 3
   },
   "file_extension": ".py",
   "mimetype": "text/x-python",
   "name": "python",
   "nbconvert_exporter": "python",
   "pygments_lexer": "ipython3",
   "version": "3.8.18"
  }
 },
 "nbformat": 4,
 "nbformat_minor": 0
}
